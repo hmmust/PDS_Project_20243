{
 "cells": [
  {
   "cell_type": "markdown",
   "metadata": {},
   "source": [
    "I will print something"
   ]
  },
  {
   "cell_type": "code",
   "execution_count": 8,
   "metadata": {},
   "outputs": [],
   "source": [
    "import pandas as pd\n",
    "import numpy as np"
   ]
  },
  {
   "cell_type": "code",
   "execution_count": 9,
   "metadata": {},
   "outputs": [],
   "source": [
    "students = pd.read_csv('students.csv',\n",
    "                       names=['id','name','major','age','year','GPA'],\n",
    "                       dtype={'Age':np.int16 })"
   ]
  },
  {
   "cell_type": "code",
   "execution_count": 10,
   "metadata": {},
   "outputs": [
    {
     "data": {
      "text/html": [
       "<div>\n",
       "<style scoped>\n",
       "    .dataframe tbody tr th:only-of-type {\n",
       "        vertical-align: middle;\n",
       "    }\n",
       "\n",
       "    .dataframe tbody tr th {\n",
       "        vertical-align: top;\n",
       "    }\n",
       "\n",
       "    .dataframe thead th {\n",
       "        text-align: right;\n",
       "    }\n",
       "</style>\n",
       "<table border=\"1\" class=\"dataframe\">\n",
       "  <thead>\n",
       "    <tr style=\"text-align: right;\">\n",
       "      <th></th>\n",
       "      <th>id</th>\n",
       "      <th>name</th>\n",
       "      <th>major</th>\n",
       "      <th>age</th>\n",
       "      <th>year</th>\n",
       "      <th>GPA</th>\n",
       "    </tr>\n",
       "  </thead>\n",
       "  <tbody>\n",
       "    <tr>\n",
       "      <th>0</th>\n",
       "      <td>Id</td>\n",
       "      <td>Name</td>\n",
       "      <td>Major</td>\n",
       "      <td>Age</td>\n",
       "      <td>Year</td>\n",
       "      <td>GPA</td>\n",
       "    </tr>\n",
       "    <tr>\n",
       "      <th>1</th>\n",
       "      <td>20201</td>\n",
       "      <td>Rama Saed</td>\n",
       "      <td>CS</td>\n",
       "      <td>21</td>\n",
       "      <td>2017</td>\n",
       "      <td>3</td>\n",
       "    </tr>\n",
       "    <tr>\n",
       "      <th>2</th>\n",
       "      <td>20223</td>\n",
       "      <td>Amjad Ahmad</td>\n",
       "      <td>SE</td>\n",
       "      <td>17</td>\n",
       "      <td>2017</td>\n",
       "      <td>3.2</td>\n",
       "    </tr>\n",
       "    <tr>\n",
       "      <th>3</th>\n",
       "      <td>20215</td>\n",
       "      <td>Rahaf Murad</td>\n",
       "      <td>SE</td>\n",
       "      <td>22</td>\n",
       "      <td>2019</td>\n",
       "      <td>3.5</td>\n",
       "    </tr>\n",
       "    <tr>\n",
       "      <th>4</th>\n",
       "      <td>20229</td>\n",
       "      <td>Bashar Zahid</td>\n",
       "      <td>IS</td>\n",
       "      <td>23</td>\n",
       "      <td>NaN</td>\n",
       "      <td>3.9</td>\n",
       "    </tr>\n",
       "    <tr>\n",
       "      <th>5</th>\n",
       "      <td>20207</td>\n",
       "      <td>Raghad Nidal</td>\n",
       "      <td>IS</td>\n",
       "      <td>20</td>\n",
       "      <td>2017</td>\n",
       "      <td>3.5</td>\n",
       "    </tr>\n",
       "    <tr>\n",
       "      <th>6</th>\n",
       "      <td>20209</td>\n",
       "      <td>Reem Mahmoud</td>\n",
       "      <td>DS</td>\n",
       "      <td>19</td>\n",
       "      <td>2019</td>\n",
       "      <td>2.95</td>\n",
       "    </tr>\n",
       "    <tr>\n",
       "      <th>7</th>\n",
       "      <td>20204</td>\n",
       "      <td>Fahid Abedullah</td>\n",
       "      <td>SE</td>\n",
       "      <td>23</td>\n",
       "      <td>NaN</td>\n",
       "      <td>3.54</td>\n",
       "    </tr>\n",
       "    <tr>\n",
       "      <th>8</th>\n",
       "      <td>20221</td>\n",
       "      <td>Mohammad Zaid</td>\n",
       "      <td>DS</td>\n",
       "      <td>22</td>\n",
       "      <td>2018</td>\n",
       "      <td>3.4</td>\n",
       "    </tr>\n",
       "    <tr>\n",
       "      <th>9</th>\n",
       "      <td>20208</td>\n",
       "      <td>Waleed Ashraf</td>\n",
       "      <td>DSS</td>\n",
       "      <td>20</td>\n",
       "      <td>2016</td>\n",
       "      <td>2.8</td>\n",
       "    </tr>\n",
       "    <tr>\n",
       "      <th>10</th>\n",
       "      <td>20218</td>\n",
       "      <td>Abdullah Yehya</td>\n",
       "      <td>IS</td>\n",
       "      <td>20</td>\n",
       "      <td>2018</td>\n",
       "      <td>2.56</td>\n",
       "    </tr>\n",
       "    <tr>\n",
       "      <th>11</th>\n",
       "      <td>20231</td>\n",
       "      <td>Shahid Masoud</td>\n",
       "      <td>SE</td>\n",
       "      <td>21</td>\n",
       "      <td>NaN</td>\n",
       "      <td>2.7</td>\n",
       "    </tr>\n",
       "    <tr>\n",
       "      <th>12</th>\n",
       "      <td>20235</td>\n",
       "      <td>Hossam Adnan</td>\n",
       "      <td>DS</td>\n",
       "      <td>22</td>\n",
       "      <td>2016</td>\n",
       "      <td>3.1</td>\n",
       "    </tr>\n",
       "  </tbody>\n",
       "</table>\n",
       "</div>"
      ],
      "text/plain": [
       "       id             name  major  age  year   GPA\n",
       "0      Id             Name  Major  Age  Year   GPA\n",
       "1   20201        Rama Saed     CS   21  2017     3\n",
       "2   20223      Amjad Ahmad     SE   17  2017   3.2\n",
       "3   20215      Rahaf Murad     SE   22  2019   3.5\n",
       "4   20229     Bashar Zahid     IS   23   NaN   3.9\n",
       "5   20207     Raghad Nidal     IS   20  2017   3.5\n",
       "6   20209     Reem Mahmoud     DS   19  2019  2.95\n",
       "7   20204  Fahid Abedullah     SE   23   NaN  3.54\n",
       "8   20221    Mohammad Zaid     DS   22  2018   3.4\n",
       "9   20208    Waleed Ashraf    DSS   20  2016   2.8\n",
       "10  20218   Abdullah Yehya     IS   20  2018  2.56\n",
       "11  20231    Shahid Masoud     SE   21   NaN   2.7\n",
       "12  20235     Hossam Adnan     DS   22  2016   3.1"
      ]
     },
     "execution_count": 10,
     "metadata": {},
     "output_type": "execute_result"
    }
   ],
   "source": [
    "students"
   ]
  },
  {
   "cell_type": "code",
   "execution_count": 11,
   "metadata": {},
   "outputs": [
    {
     "data": {
      "text/plain": [
       "<Axes: xlabel='age'>"
      ]
     },
     "execution_count": 11,
     "metadata": {},
     "output_type": "execute_result"
    },
    {
     "data": {
      "image/png": "[encoded data removed]",
      "text/plain": [
       "<Figure size 640x480 with 1 Axes>"
      ]
     },
     "metadata": {},
     "output_type": "display_data"
    }
   ],
   "source": [
    "students.age.value_counts().plot.bar()"
   ]
  },
  {
   "cell_type": "code",
   "execution_count": 14,
   "metadata": {},
   "outputs": [
    {
     "data": {
      "text/plain": [
       "<Axes: >"
      ]
     },
     "execution_count": 14,
     "metadata": {},
     "output_type": "execute_result"
    },
    {
     "data": {
      "image/png": "[encoded data removed]",
      "text/plain": [
       "<Figure size 640x480 with 1 Axes>"
      ]
     },
     "metadata": {},
     "output_type": "display_data"
    }
   ],
   "source": [
    "students.GPA.value_counts().plot.box()"
   ]
  }
 ],
 "metadata": {
  "kernelspec": {
   "display_name": "venv",
   "language": "python",
   "name": "python3"
  },
  "language_info": {
   "codemirror_mode": {
    "name": "ipython",
    "version": 3
   },
   "file_extension": ".py",
   "mimetype": "text/x-python",
   "name": "python",
   "nbconvert_exporter": "python",
   "pygments_lexer": "ipython3",
   "version": "3.12.5"
  }
 },
 "nbformat": 4,
 "nbformat_minor": 2
}
